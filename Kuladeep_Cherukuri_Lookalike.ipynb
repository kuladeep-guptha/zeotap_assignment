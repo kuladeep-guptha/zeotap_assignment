{
 "cells": [
  {
   "cell_type": "code",
   "execution_count": 1,
   "metadata": {},
   "outputs": [],
   "source": [
    "from sklearn.preprocessing import OneHotEncoder, StandardScaler\n",
    "from sklearn.metrics.pairwise import cosine_similarity\n",
    "import pandas as pd\n",
    "from sklearn.cluster import KMeans\n",
    "from sklearn.metrics import silhouette_score\n",
    "from sklearn.metrics import accuracy_score\n",
    "\n",
    "# Load data\n",
    "customers = pd.read_csv('Customers.csv')\n",
    "products = pd.read_csv('Products.csv')\n",
    "transactions = pd.read_csv('Transactions.csv')"
   ]
  },
  {
   "cell_type": "code",
   "execution_count": 2,
   "metadata": {},
   "outputs": [],
   "source": [
    "# Preprocess dates\n",
    "customers['SignupDate'] = pd.to_datetime(customers['SignupDate'])\n",
    "transactions['TransactionDate'] = pd.to_datetime(transactions['TransactionDate'])\n",
    "\n",
    "# Aggregate transaction data per customer\n",
    "customer_transactions = transactions.groupby('CustomerID').agg({\n",
    "    'TotalValue': ['sum', 'mean', 'count'],\n",
    "    'Quantity': 'sum'\n",
    "}).reset_index()\n",
    "customer_transactions.columns = ['CustomerID', 'TotalSpend', 'AvgSpend', 'TransactionCount', 'TotalQuantity']\n",
    "\n",
    "# Join aggregated data with customers\n",
    "customers = customers.merge(customer_transactions, on='CustomerID', how='left').fillna(0)\n",
    "\n",
    "# One-hot encode categorical features\n",
    "encoder = OneHotEncoder()\n",
    "region_encoded = encoder.fit_transform(customers[['Region']]).toarray()\n",
    "region_df = pd.DataFrame(region_encoded, columns=encoder.get_feature_names_out(['Region']))\n",
    "\n",
    "# Concatenate encoded features\n",
    "customers = pd.concat([customers, region_df], axis=1)\n"
   ]
  },
  {
   "cell_type": "code",
   "execution_count": 3,
   "metadata": {},
   "outputs": [],
   "source": [
    "# Normalize numerical features\n",
    "scaler = StandardScaler()\n",
    "scaled_features = scaler.fit_transform(customers[['TotalSpend', 'AvgSpend', 'TransactionCount', 'TotalQuantity']])\n",
    "scaled_df = pd.DataFrame(scaled_features, columns=['ScaledSpend', 'ScaledAvgSpend', 'ScaledTransactionCount', 'ScaledQuantity'])\n",
    "\n",
    "# Final feature set for similarity calculations\n",
    "customers = pd.concat([customers, scaled_df], axis=1)\n",
    "\n",
    "# Compute similarity matrix\n",
    "features = customers[['ScaledSpend', 'ScaledAvgSpend', 'ScaledTransactionCount', 'ScaledQuantity'] + list(region_df.columns)]\n",
    "similarity_matrix = cosine_similarity(features)\n"
   ]
  },
  {
   "cell_type": "code",
   "execution_count": 4,
   "metadata": {},
   "outputs": [],
   "source": [
    "# Generate top 3 recommendations for each customer\n",
    "lookalike_map = {}\n",
    "for i, cust_id in enumerate(customers['CustomerID']):\n",
    "    similarities = list(enumerate(similarity_matrix[i]))\n",
    "    similarities = sorted(similarities, key=lambda x: -x[1])  # Sort by similarity score\n",
    "    top_3 = [(customers.loc[idx, 'CustomerID'], round(score, 3)) for idx, score in similarities[1:4]]\n",
    "    lookalike_map[cust_id] = top_3\n"
   ]
  },
  {
   "cell_type": "code",
   "execution_count": 5,
   "metadata": {},
   "outputs": [
    {
     "name": "stdout",
     "output_type": "stream",
     "text": [
      "Silhouette Score for Clustering: 0.25\n",
      "Cluster Accuracy: 86.83%\n"
     ]
    }
   ],
   "source": [
    "\n",
    "# Clustering Step\n",
    "kmeans = KMeans(n_clusters=4, random_state=42)  # Adjust the number of clusters if needed\n",
    "customers['Cluster'] = kmeans.fit_predict(features)\n",
    "\n",
    "# Evaluate Clustering Quality\n",
    "silhouette_avg = silhouette_score(features, customers['Cluster'])\n",
    "print(f\"Silhouette Score for Clustering: {silhouette_avg:.2f}\")\n",
    "\n",
    "# Evaluate Lookalike Recommendations Against Clusters\n",
    "def evaluate_lookalikes_with_clusters(customers, lookalike_map):\n",
    "    correct_recommendations = 0\n",
    "    total_recommendations = 0\n",
    "\n",
    "    for target_id, recommendations in lookalike_map.items():\n",
    "        # Get target customer cluster\n",
    "        target_cluster = customers.loc[customers['CustomerID'] == target_id, 'Cluster'].values[0]\n",
    "        for rec_id, _ in recommendations:\n",
    "            # Get recommended customer cluster\n",
    "            rec_cluster = customers.loc[customers['CustomerID'] == rec_id, 'Cluster'].values[0]\n",
    "            if target_cluster == rec_cluster:\n",
    "                correct_recommendations += 1\n",
    "            total_recommendations += 1\n",
    "\n",
    "    cluster_accuracy = correct_recommendations / total_recommendations if total_recommendations > 0 else 0\n",
    "    return cluster_accuracy\n",
    "\n",
    "# Calculate Cluster Accuracy\n",
    "cluster_accuracy = evaluate_lookalikes_with_clusters(customers, lookalike_map)\n",
    "print(f\"Cluster Accuracy: {cluster_accuracy:.2%}\")\n",
    "\n",
    "# Save Lookalike Map to CSV\n",
    "import csv\n",
    "with open('Lookalike.csv', 'w', newline='') as f:\n",
    "    writer = csv.writer(f)\n",
    "    writer.writerow(['CustomerID', 'Recommendations'])\n",
    "    for cust_id, recs in lookalike_map.items():\n",
    "        writer.writerow([cust_id, recs])"
   ]
  },
  {
   "cell_type": "markdown",
   "metadata": {},
   "source": [
    "- Effective Customer Grouping:\n",
    "\n",
    "The K-Means clustering method successfully segments customers based on spending behavior, with the Silhouette Score indicating the quality of clustering.\n",
    "\n",
    "- Accurate Lookalike Recommendations:\n",
    "\n",
    "Cosine similarity helps identify similar customers, providing reliable recommendations that align well with cluster groups.\n",
    "\n",
    "- Importance of Data Preprocessing:\n",
    "\n",
    "Proper handling of missing values, feature scaling, and one-hot encoding significantly improve the model's accuracy.\n"
   ]
  },
  {
   "cell_type": "markdown",
   "metadata": {},
   "source": []
  }
 ],
 "metadata": {
  "kernelspec": {
   "display_name": "Python 3",
   "language": "python",
   "name": "python3"
  },
  "language_info": {
   "codemirror_mode": {
    "name": "ipython",
    "version": 3
   },
   "file_extension": ".py",
   "mimetype": "text/x-python",
   "name": "python",
   "nbconvert_exporter": "python",
   "pygments_lexer": "ipython3",
   "version": "3.12.3"
  }
 },
 "nbformat": 4,
 "nbformat_minor": 2
}
